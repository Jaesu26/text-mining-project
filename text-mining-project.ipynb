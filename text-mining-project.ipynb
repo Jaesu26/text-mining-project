{
 "cells": [
  {
   "cell_type": "markdown",
   "id": "7f84a987-349f-4a36-ba15-e09f3270d70d",
   "metadata": {},
   "source": [
    "# 텍스트 마이닝 프로젝트"
   ]
  },
  {
   "cell_type": "markdown",
   "id": "2a75e5f3-9e3f-434f-9188-46bd289084c2",
   "metadata": {},
   "source": [
    "`(1)` 관심있는 분야의 데이터를 웹에서 크롤링하여 데이터 셋을 생성 (가급적 관측치는 1000개 이상의 데이터를 활용, 2~3개의 데이터 화일로 만들어 bind 하여 이용해도 됨)\n",
    "\n",
    "`(2)` 사전처리를 수행하고 데이터를 분석\n",
    "\n",
    "`(3)` 프로젝트 결과는 보고서 형태로 만들어 파일로 저장하여 업로드\n",
    "\n",
    "`-` 크롤링, 사전처리, 데이터 분석 코드는 보고서 맨 뒷부분에 첨부\n",
    "\n",
    "`-` 코드는 R 또는 Python 둘 중 하나로 작성"
   ]
  },
  {
   "cell_type": "markdown",
   "id": "1f9f2edd-6aa6-4976-90ae-8a1b0396b414",
   "metadata": {},
   "source": [
    "## 주제"
   ]
  },
  {
   "cell_type": "markdown",
   "id": "0905c846-9445-4e63-8706-37e9329b19a3",
   "metadata": {},
   "source": [
    "`-` 사람로 사이트에 있는 명언 텍스트를 분석 (https://saramro.com)"
   ]
  },
  {
   "cell_type": "markdown",
   "id": "48b86b09-b4bf-46da-aaf5-2f0c2b3c492b",
   "metadata": {},
   "source": [
    "## 크롤링"
   ]
  },
  {
   "cell_type": "code",
   "execution_count": 20,
   "id": "3de30ae8-429f-4b86-beb6-ea851e7bd0f9",
   "metadata": {},
   "outputs": [],
   "source": [
    "import pandas as pd\n",
    "import requests\n",
    "from bs4 import BeautifulSoup\n",
    "from bs4.element import Tag\n",
    "from tqdm.auto import tqdm\n",
    "\n",
    "from typing import List"
   ]
  },
  {
   "cell_type": "code",
   "execution_count": 32,
   "id": "6f42a22e-3cd9-4dcc-b812-11870c61dff3",
   "metadata": {},
   "outputs": [],
   "source": [
    "class SaramroCrawler:\n",
    "    \"\"\"Saramro(https://saramro.com/) 사이트를 크롤링\"\"\"\n",
    "    _base_url = 'https://saramro.com'\n",
    "    _content_exists_error_message_title = '오류안내 페이지 | 사람로'\n",
    "    \n",
    "    def __init__(self):\n",
    "        self.quotes_url = f'{self._base_url}/quotes'\n",
    "        self.quotes_storage = []\n",
    "\n",
    "    def get_quotes(self, start_id: int, end_id: int) -> List[str]:\n",
    "        for id in tqdm(range(start_id, end_id + 1)):\n",
    "            quote = self.get_quote(id)\n",
    "            if quote:\n",
    "                self.quotes_storage.append(quote)\n",
    "        return self.quotes_storage\n",
    "    \n",
    "    def get_quote(self, id: int) -> List[str]:\n",
    "        url = f'{self.quotes_url}/{id}'\n",
    "        response = requests.get(url)\n",
    "        if response.status_code != 200:\n",
    "            return []\n",
    "        \n",
    "        html = response.text\n",
    "        soup = BeautifulSoup(html, 'html.parser')\n",
    "        if not self._check_post_exists(soup):\n",
    "            return []\n",
    "             \n",
    "        title = self._get_title_from_soup(soup)\n",
    "        content = self._get_content_from_soup(soup)\n",
    "        \n",
    "        try:\n",
    "            quote = self._get_quote_from_content(content)\n",
    "            author = self._get_author_from_content(content)\n",
    "            categories = self._get_categories_from_title(title)\n",
    "            return [quote, author, categories]\n",
    "        except:\n",
    "            return []\n",
    "    \n",
    "    def _check_post_exists(self, soup: BeautifulSoup) -> bool:\n",
    "        post_title = soup.select_one('title').text\n",
    "        if post_title == self._content_exists_error_message_title:\n",
    "            return False\n",
    "        return True\n",
    "    \n",
    "    def _get_title_from_soup(self, soup: BeautifulSoup) -> Tag:\n",
    "        title = soup.select_one('#bo_v_title > span')\n",
    "        return title\n",
    "    \n",
    "    def _get_content_from_soup(self, soup: BeautifulSoup) -> Tag:\n",
    "        content = soup.select_one('#bo_v_con')\n",
    "        return content\n",
    "    \n",
    "    def _get_quote_from_content(self, content: Tag) -> str:\n",
    "        quote = content.contents[0].strip()\n",
    "        return quote\n",
    "    \n",
    "    def _get_author_from_content(self, content: Tag) -> str:\n",
    "        author = content.contents[2].split('-')[-1].strip()\n",
    "        return author\n",
    "    \n",
    "    def _get_categories_from_title(self, title: Tag) -> str:\n",
    "        categories = title.text.split('-')[0].strip()\n",
    "        return categories\n",
    "    \n",
    "    def _quotes2df(self) -> None:\n",
    "        self.df = pd.DataFrame(self.quotes_storage, columns=['quote', 'author', 'categories'])\n",
    "    \n",
    "    def save_quotes2csv(self, path: str) -> None:\n",
    "        self._quotes2df()\n",
    "        self.df.to_csv(path)"
   ]
  },
  {
   "cell_type": "markdown",
   "id": "ff099e45-ab4c-4c4c-9535-2680d987c7f4",
   "metadata": {},
   "source": [
    "`-` 2022-12-08 17:08:00 기준 명언 모음 게시판에 명언글 아이디는 1부터 16402까지 존재한다\n",
    "\n",
    "`-` 삭제된 게시글의 번호는 존재하지 않으므로 이를 제외하면 명언의 개수는 13387개이다 \n",
    "\n",
    "`-` 최종적으로 13381개의 명언을 크롤링했다"
   ]
  },
  {
   "cell_type": "code",
   "execution_count": 33,
   "id": "2f5e2791-d7cc-4566-94c7-57c0d160ff72",
   "metadata": {},
   "outputs": [],
   "source": [
    "start_id = 1\n",
    "end_id = 16402\n",
    "crawler = SaramroCrawler() "
   ]
  },
  {
   "cell_type": "code",
   "execution_count": 28,
   "id": "71569d60-9b7f-4c86-b65e-87197288dd7f",
   "metadata": {},
   "outputs": [
    {
     "data": {
      "application/vnd.jupyter.widget-view+json": {
       "model_id": "785a09bc47164a71aee766d924b3691a",
       "version_major": 2,
       "version_minor": 0
      },
      "text/plain": [
       "  0%|          | 0/16402 [00:00<?, ?it/s]"
      ]
     },
     "metadata": {},
     "output_type": "display_data"
    }
   ],
   "source": [
    "quotes = crawler.get_quotes(start_id, end_id)"
   ]
  },
  {
   "cell_type": "code",
   "execution_count": 29,
   "id": "07c25fe7-5302-41c1-be52-9466563f4239",
   "metadata": {},
   "outputs": [],
   "source": [
    "path = './data/quote.csv'\n",
    "crawler.save_quotes2csv(path)"
   ]
  },
  {
   "cell_type": "code",
   "execution_count": null,
   "id": "f65ece2d-8ebe-432b-9512-7ba3e3ba622b",
   "metadata": {},
   "outputs": [],
   "source": []
  }
 ],
 "metadata": {
  "kernelspec": {
   "display_name": "Python 3 (ipykernel)",
   "language": "python",
   "name": "python3"
  },
  "language_info": {
   "codemirror_mode": {
    "name": "ipython",
    "version": 3
   },
   "file_extension": ".py",
   "mimetype": "text/x-python",
   "name": "python",
   "nbconvert_exporter": "python",
   "pygments_lexer": "ipython3",
   "version": "3.8.11"
  }
 },
 "nbformat": 4,
 "nbformat_minor": 5
}
